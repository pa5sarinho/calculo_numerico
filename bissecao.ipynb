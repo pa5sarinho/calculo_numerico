{
 "cells": [
  {
   "cell_type": "markdown",
   "id": "bf273956",
   "metadata": {},
   "source": [
    "# Método da Bisseção"
   ]
  },
  {
   "cell_type": "markdown",
   "id": "b68f007f",
   "metadata": {},
   "source": [
    "Este método pode ser usado para encontrar as raízes de uma função contínua. A cada passo, o erro absoluto é reduzido pela metade, e assim o método converge linearmente."
   ]
  },
  {
   "cell_type": "code",
   "execution_count": 1,
   "id": "c4c68d3a",
   "metadata": {},
   "outputs": [],
   "source": [
    "import numpy as np\n",
    "import matplotlib.pyplot as plt\n",
    "import pandas as pd"
   ]
  },
  {
   "cell_type": "markdown",
   "id": "73ccd2bf",
   "metadata": {},
   "source": [
    "## Implementação:"
   ]
  },
  {
   "cell_type": "markdown",
   "id": "58055701",
   "metadata": {},
   "source": [
    "Método da bisseção, com limite por numero de iterações e tolerância de erro."
   ]
  },
  {
   "cell_type": "code",
   "execution_count": 2,
   "id": "6eddc301",
   "metadata": {},
   "outputs": [],
   "source": [
    "def bissecao(f, a, b, tol=1e-10, lim_iter=1000, ignorarValueError=False):\n",
    "    '''\n",
    "    f: funcao\n",
    "    a, b: intervalo [a, b]\n",
    "    tol: tolerancia de erro, padrao .00000001%\n",
    "    lim_iter: numero maximo de iteracoes\n",
    "    ignorarValueError: comeca a computar mesmo se f() do intervalo tiver sinais diferentes.\n",
    "    nao vai encontrar uma raiz, mas mantem o historico\n",
    "    \n",
    "    retorna tuple (raiz, DataFrame)\n",
    "    '''\n",
    "    \n",
    "    df = pd.DataFrame([],columns=['a', 'b', 'x', 'erro'])\n",
    "    \n",
    "    if not ignorarValueError:\n",
    "        if np.sign(f(b)) * np.sign(f(a)) != -1:\n",
    "            raise ValueError('raiz inexistente; intervalo deve ter sinais opostos')\n",
    "\n",
    "    erro = 1\n",
    "    xa = a # xi-1\n",
    "    # loop tem capacidade de rodar (lim_iter) vezes, mas finaliza caso encontre\n",
    "    # a raiz exata f(x) = 0, ou ao alcancar tolerancia de erro desejada\n",
    "    for i in range(lim_iter):\n",
    "        x = (a+b)/2\n",
    "        df.loc[len(df)] = [a, b, x, erro]\n",
    "            \n",
    "        if erro <= tol:\n",
    "            return x, df\n",
    "            \n",
    "        if f(x) == 0:\n",
    "            return x, df\n",
    "        else:\n",
    "            if np.sign(f(a)) * np.sign(f(x)) == -1:\n",
    "                b = x \n",
    "            else:\n",
    "                a = x\n",
    "        try:\n",
    "            erro = abs((x - xa)/x)\n",
    "        except ZeroDivisionError:\n",
    "            pass\n",
    "        xa = x\n",
    "    \n",
    "    return x, df"
   ]
  },
  {
   "cell_type": "markdown",
   "id": "791222bc",
   "metadata": {},
   "source": [
    "## Exemplos"
   ]
  },
  {
   "cell_type": "markdown",
   "id": "dcf31a93",
   "metadata": {},
   "source": [
    "### 1. f (x) = −0.5x^2 + 2.5x + 4.5"
   ]
  },
  {
   "cell_type": "code",
   "execution_count": 3,
   "id": "b7dddd66",
   "metadata": {},
   "outputs": [],
   "source": [
    "f = lambda x: -1*(0.5)*x**2 + 2.5*x + 4.5"
   ]
  },
  {
   "cell_type": "markdown",
   "id": "990a0412",
   "metadata": {},
   "source": [
    "### Representação gráfica:"
   ]
  },
  {
   "cell_type": "code",
   "execution_count": 4,
   "id": "4aed300f",
   "metadata": {},
   "outputs": [
    {
     "data": {
      "image/png": "[encoded data removed]",
      "text/plain": [
       "<Figure size 640x480 with 1 Axes>"
      ]
     },
     "metadata": {},
     "output_type": "display_data"
    }
   ],
   "source": [
    "x = np.linspace(-5, 10, 100)\n",
    "plt.plot(x, f(x))\n",
    "plt.grid()"
   ]
  },
  {
   "cell_type": "markdown",
   "id": "45420222",
   "metadata": {},
   "source": [
    "### Formula quadratica:"
   ]
  },
  {
   "cell_type": "code",
   "execution_count": 5,
   "id": "e483d4c0",
   "metadata": {},
   "outputs": [],
   "source": [
    "def bhaskara(a, b, c) -> float:\n",
    "    delta = b**2 - (4*a*c)\n",
    "    x1 = (-b + np.sqrt(delta)) / (2*a)\n",
    "    x2 = (-b - np.sqrt(delta)) / (2*a)\n",
    "    \n",
    "    return x1, x2"
   ]
  },
  {
   "cell_type": "code",
   "execution_count": 6,
   "id": "bc02b5fd",
   "metadata": {},
   "outputs": [
    {
     "data": {
      "text/plain": [
       "(-1.405124837953327, 6.405124837953327)"
      ]
     },
     "execution_count": 6,
     "metadata": {},
     "output_type": "execute_result"
    }
   ],
   "source": [
    "bhaskara(-0.5, 2.5, 4.5)"
   ]
  },
  {
   "cell_type": "markdown",
   "id": "db596fab",
   "metadata": {},
   "source": [
    "### Usando o método da bisseção:"
   ]
  },
  {
   "cell_type": "markdown",
   "id": "95593ff7",
   "metadata": {},
   "source": [
    "Encontrando uma aproximação da maior raiz utilizando apenas 3 iterações: erro final de 20%"
   ]
  },
  {
   "cell_type": "code",
   "execution_count": 7,
   "id": "c1c47d59",
   "metadata": {
    "scrolled": true
   },
   "outputs": [
    {
     "data": {
      "text/plain": [
       "6.875"
      ]
     },
     "execution_count": 7,
     "metadata": {},
     "output_type": "execute_result"
    }
   ],
   "source": [
    "bissecao(f, 5, 10, lim_iter=3)[0]"
   ]
  },
  {
   "cell_type": "code",
   "execution_count": 8,
   "id": "b782c135",
   "metadata": {
    "scrolled": true
   },
   "outputs": [
    {
     "data": {
      "text/html": [
       "<div>\n",
       "<style scoped>\n",
       "    .dataframe tbody tr th:only-of-type {\n",
       "        vertical-align: middle;\n",
       "    }\n",
       "\n",
       "    .dataframe tbody tr th {\n",
       "        vertical-align: top;\n",
       "    }\n",
       "\n",
       "    .dataframe thead th {\n",
       "        text-align: right;\n",
       "    }\n",
       "</style>\n",
       "<table border=\"1\" class=\"dataframe\">\n",
       "  <thead>\n",
       "    <tr style=\"text-align: right;\">\n",
       "      <th></th>\n",
       "      <th>a</th>\n",
       "      <th>b</th>\n",
       "      <th>x</th>\n",
       "      <th>erro</th>\n",
       "    </tr>\n",
       "  </thead>\n",
       "  <tbody>\n",
       "    <tr>\n",
       "      <th>0</th>\n",
       "      <td>5.00</td>\n",
       "      <td>10.0</td>\n",
       "      <td>7.500</td>\n",
       "      <td>1.000000</td>\n",
       "    </tr>\n",
       "    <tr>\n",
       "      <th>1</th>\n",
       "      <td>5.00</td>\n",
       "      <td>7.5</td>\n",
       "      <td>6.250</td>\n",
       "      <td>0.333333</td>\n",
       "    </tr>\n",
       "    <tr>\n",
       "      <th>2</th>\n",
       "      <td>6.25</td>\n",
       "      <td>7.5</td>\n",
       "      <td>6.875</td>\n",
       "      <td>0.200000</td>\n",
       "    </tr>\n",
       "  </tbody>\n",
       "</table>\n",
       "</div>"
      ],
      "text/plain": [
       "      a     b      x      erro\n",
       "0  5.00  10.0  7.500  1.000000\n",
       "1  5.00   7.5  6.250  0.333333\n",
       "2  6.25   7.5  6.875  0.200000"
      ]
     },
     "execution_count": 8,
     "metadata": {},
     "output_type": "execute_result"
    }
   ],
   "source": [
    "bissecao(f, 5, 10, lim_iter=3)[1]"
   ]
  },
  {
   "cell_type": "markdown",
   "id": "a58b6a48",
   "metadata": {},
   "source": [
    "## 3. Sen x = x^3"
   ]
  },
  {
   "cell_type": "markdown",
   "id": "a26f4ddf",
   "metadata": {},
   "source": [
    "Calculos ate erro ser menor que 2%"
   ]
  },
  {
   "cell_type": "code",
   "execution_count": 9,
   "id": "c988480a",
   "metadata": {},
   "outputs": [
    {
     "data": {
      "text/html": [
       "<div>\n",
       "<style scoped>\n",
       "    .dataframe tbody tr th:only-of-type {\n",
       "        vertical-align: middle;\n",
       "    }\n",
       "\n",
       "    .dataframe tbody tr th {\n",
       "        vertical-align: top;\n",
       "    }\n",
       "\n",
       "    .dataframe thead th {\n",
       "        text-align: right;\n",
       "    }\n",
       "</style>\n",
       "<table border=\"1\" class=\"dataframe\">\n",
       "  <thead>\n",
       "    <tr style=\"text-align: right;\">\n",
       "      <th></th>\n",
       "      <th>a</th>\n",
       "      <th>b</th>\n",
       "      <th>x</th>\n",
       "      <th>erro</th>\n",
       "    </tr>\n",
       "  </thead>\n",
       "  <tbody>\n",
       "    <tr>\n",
       "      <th>0</th>\n",
       "      <td>0.500000</td>\n",
       "      <td>1.0000</td>\n",
       "      <td>0.750000</td>\n",
       "      <td>1.000000</td>\n",
       "    </tr>\n",
       "    <tr>\n",
       "      <th>1</th>\n",
       "      <td>0.750000</td>\n",
       "      <td>1.0000</td>\n",
       "      <td>0.875000</td>\n",
       "      <td>0.333333</td>\n",
       "    </tr>\n",
       "    <tr>\n",
       "      <th>2</th>\n",
       "      <td>0.875000</td>\n",
       "      <td>1.0000</td>\n",
       "      <td>0.937500</td>\n",
       "      <td>0.142857</td>\n",
       "    </tr>\n",
       "    <tr>\n",
       "      <th>3</th>\n",
       "      <td>0.875000</td>\n",
       "      <td>0.9375</td>\n",
       "      <td>0.906250</td>\n",
       "      <td>0.066667</td>\n",
       "    </tr>\n",
       "    <tr>\n",
       "      <th>4</th>\n",
       "      <td>0.906250</td>\n",
       "      <td>0.9375</td>\n",
       "      <td>0.921875</td>\n",
       "      <td>0.034483</td>\n",
       "    </tr>\n",
       "    <tr>\n",
       "      <th>5</th>\n",
       "      <td>0.921875</td>\n",
       "      <td>0.9375</td>\n",
       "      <td>0.929688</td>\n",
       "      <td>0.016949</td>\n",
       "    </tr>\n",
       "  </tbody>\n",
       "</table>\n",
       "</div>"
      ],
      "text/plain": [
       "          a       b         x      erro\n",
       "0  0.500000  1.0000  0.750000  1.000000\n",
       "1  0.750000  1.0000  0.875000  0.333333\n",
       "2  0.875000  1.0000  0.937500  0.142857\n",
       "3  0.875000  0.9375  0.906250  0.066667\n",
       "4  0.906250  0.9375  0.921875  0.034483\n",
       "5  0.921875  0.9375  0.929688  0.016949"
      ]
     },
     "execution_count": 9,
     "metadata": {},
     "output_type": "execute_result"
    }
   ],
   "source": [
    "g = lambda x: np.sin(x) - x**3\n",
    "bissecao(g, 0.5, 1, tol=.02)[1]"
   ]
  },
  {
   "cell_type": "code",
   "execution_count": 10,
   "id": "21ca882f",
   "metadata": {},
   "outputs": [
    {
     "data": {
      "image/png": "[encoded data removed]",
      "text/plain": [
       "<Figure size 640x480 with 1 Axes>"
      ]
     },
     "metadata": {},
     "output_type": "display_data"
    }
   ],
   "source": [
    "x = np.linspace(-5, 5, 100)\n",
    "plt.plot(x, g(x))\n",
    "plt.grid()"
   ]
  },
  {
   "cell_type": "markdown",
   "id": "f138535a",
   "metadata": {},
   "source": [
    "## 4.  −2x^6 − 1.5x^4 + 10x + 20"
   ]
  },
  {
   "cell_type": "markdown",
   "id": "b85666f8",
   "metadata": {},
   "source": [
    "Encontrando o ponto máximo da função:"
   ]
  },
  {
   "cell_type": "code",
   "execution_count": 11,
   "id": "1d8a90b2",
   "metadata": {},
   "outputs": [
    {
     "data": {
      "image/png": "[encoded data removed]",
      "text/plain": [
       "<Figure size 640x480 with 1 Axes>"
      ]
     },
     "metadata": {},
     "output_type": "display_data"
    }
   ],
   "source": [
    "f = lambda x: -2*(x**6) - 1.5*(x**4) + 10*x + 20\n",
    "plt.plot(x, f(x))\n",
    "plt.grid()"
   ]
  },
  {
   "cell_type": "code",
   "execution_count": 12,
   "id": "315377cb",
   "metadata": {},
   "outputs": [
    {
     "data": {
      "text/html": [
       "<div>\n",
       "<style scoped>\n",
       "    .dataframe tbody tr th:only-of-type {\n",
       "        vertical-align: middle;\n",
       "    }\n",
       "\n",
       "    .dataframe tbody tr th {\n",
       "        vertical-align: top;\n",
       "    }\n",
       "\n",
       "    .dataframe thead th {\n",
       "        text-align: right;\n",
       "    }\n",
       "</style>\n",
       "<table border=\"1\" class=\"dataframe\">\n",
       "  <thead>\n",
       "    <tr style=\"text-align: right;\">\n",
       "      <th></th>\n",
       "      <th>a</th>\n",
       "      <th>b</th>\n",
       "      <th>x</th>\n",
       "      <th>erro</th>\n",
       "    </tr>\n",
       "  </thead>\n",
       "  <tbody>\n",
       "    <tr>\n",
       "      <th>5</th>\n",
       "      <td>0.96875</td>\n",
       "      <td>1.0</td>\n",
       "      <td>0.984375</td>\n",
       "      <td>0.032258</td>\n",
       "    </tr>\n",
       "  </tbody>\n",
       "</table>\n",
       "</div>"
      ],
      "text/plain": [
       "         a    b         x      erro\n",
       "5  0.96875  1.0  0.984375  0.032258"
      ]
     },
     "execution_count": 12,
     "metadata": {},
     "output_type": "execute_result"
    }
   ],
   "source": [
    "bissecao(f, 0, 1, tol=.05, ignorarValueError=True)[1].sort_values(by=['x'], ascending=False).head(1)"
   ]
  },
  {
   "cell_type": "markdown",
   "id": "614cde24",
   "metadata": {},
   "source": [
    "Valor maximo de f(x): em torno de 0.984375"
   ]
  },
  {
   "cell_type": "markdown",
   "id": "b8b13543",
   "metadata": {},
   "source": [
    "## Método da falsa posição"
   ]
  },
  {
   "cell_type": "markdown",
   "id": "8063a466",
   "metadata": {},
   "source": [
    "Enquanto o método da bissecção divide o intervalo em duas partes iguais e utiliza o ponto médio como nova aproximação, **o método da falsa posição utiliza uma interpolação linear para obter uma nova aproximação**"
   ]
  },
  {
   "cell_type": "code",
   "execution_count": 13,
   "id": "1b0e403b",
   "metadata": {},
   "outputs": [],
   "source": [
    "def falsa_pos(f, a, b, tol=1e-10, lim_iter=1000):\n",
    "    df = pd.DataFrame([],columns=['a', 'b', 'x', 'erro'])\n",
    "\n",
    "    if np.sign(f(b)) * np.sign(f(a)) != -1:\n",
    "            raise ValueError('intervalo deve ter sinais opostos')\n",
    "\n",
    "    else:\n",
    "        erro = 1\n",
    "        xa = a\n",
    "        for i in range(lim_iter):\n",
    "            # A diferenca entre os dois algoritmos esta na forma de calcular a aproximacao:\n",
    "            x = (a * f(b) - b * f(a)) / (f(b) - f(a))\n",
    "            df.loc[len(df)] = [a, b, x, erro]\n",
    "            \n",
    "            if erro <= tol:\n",
    "                return x, df\n",
    "            \n",
    "            if f(x) == 0:\n",
    "                return x, df\n",
    "\n",
    "            if f(a) * f(x) < 0:\n",
    "                b = x\n",
    "            else:\n",
    "                a = x\n",
    "            try:\n",
    "                erro = abs((x - xa)/x)\n",
    "            except ZeroDivisionError:\n",
    "                pass\n",
    "                \n",
    "            xa=x\n",
    "\n",
    "    return x, df\n"
   ]
  },
  {
   "cell_type": "markdown",
   "id": "0c8f4769",
   "metadata": {},
   "source": [
    "### g(x) do exemplo 3"
   ]
  },
  {
   "cell_type": "code",
   "execution_count": 14,
   "id": "4eafc4ca",
   "metadata": {},
   "outputs": [
    {
     "name": "stdout",
     "output_type": "stream",
     "text": [
      "raiz 0.9286263087315695 encontrada em 52 iteracoes\n"
     ]
    }
   ],
   "source": [
    "raizFP = falsa_pos(g, .5, 1)\n",
    "print('raiz', raizFP[0], 'encontrada em', raizFP[1].size, 'iteracoes')"
   ]
  },
  {
   "cell_type": "code",
   "execution_count": 15,
   "id": "b8f811d4",
   "metadata": {
    "scrolled": true
   },
   "outputs": [
    {
     "name": "stdout",
     "output_type": "stream",
     "text": [
      "raiz 0.9286263087124098 encontrada em 136 iteracoes\n"
     ]
    }
   ],
   "source": [
    "raizB = bissecao(g, .5, 1)\n",
    "print('raiz', raizB[0], 'encontrada em', raizB[1].size, 'iteracoes')"
   ]
  },
  {
   "cell_type": "markdown",
   "id": "41cc8b91",
   "metadata": {},
   "source": [
    "Algoritmo da falsa posicao precisou de menos da metade de iteracoes para encontrar uma resposta."
   ]
  },
  {
   "cell_type": "markdown",
   "id": "0690f7b5",
   "metadata": {},
   "source": [
    "###  f (x) = 2 − e^x"
   ]
  },
  {
   "cell_type": "code",
   "execution_count": 16,
   "id": "6c14207d",
   "metadata": {},
   "outputs": [
    {
     "data": {
      "image/png": "[encoded data removed]",
      "text/plain": [
       "<Figure size 640x480 with 1 Axes>"
      ]
     },
     "metadata": {},
     "output_type": "display_data"
    }
   ],
   "source": [
    "x = np.linspace(-1, 3, 100)\n",
    "f = lambda x: 2 - np.e**x\n",
    "plt.plot(x, f(x))\n",
    "plt.grid()"
   ]
  },
  {
   "cell_type": "markdown",
   "id": "fca413e6",
   "metadata": {},
   "source": [
    "**com o algoritmo da falsa posicao:**"
   ]
  },
  {
   "cell_type": "code",
   "execution_count": 17,
   "id": "7b5a9d6b",
   "metadata": {},
   "outputs": [
    {
     "name": "stdout",
     "output_type": "stream",
     "text": [
      "raiz aprox. 0.6931471805584485 encontrada em 56 iteracoes\n"
     ]
    }
   ],
   "source": [
    "raizFP = falsa_pos(f, 0, 1)\n",
    "print('raiz aprox.', raizFP[0], 'encontrada em', raizFP[1].size, 'iteracoes')"
   ]
  },
  {
   "cell_type": "markdown",
   "id": "39e26093",
   "metadata": {},
   "source": [
    "**com o algoritmo da bissecao:**"
   ]
  },
  {
   "cell_type": "code",
   "execution_count": 18,
   "id": "2ba930b7",
   "metadata": {},
   "outputs": [
    {
     "name": "stdout",
     "output_type": "stream",
     "text": [
      "raiz aprox. 0.6931471805728506 encontrada em 140 iteracoes\n"
     ]
    }
   ],
   "source": [
    "raizB = bissecao(f, 0, 1)\n",
    "print('raiz aprox.', raizB[0], 'encontrada em', raizB[1].size, 'iteracoes')"
   ]
  },
  {
   "cell_type": "markdown",
   "id": "87e26729",
   "metadata": {},
   "source": [
    "O metodo da falsa posicao se mostra mais eficiente."
   ]
  }
 ],
 "metadata": {
  "kernelspec": {
   "display_name": "Python 3 (ipykernel)",
   "language": "python",
   "name": "python3"
  },
  "language_info": {
   "codemirror_mode": {
    "name": "ipython",
    "version": 3
   },
   "file_extension": ".py",
   "mimetype": "text/x-python",
   "name": "python",
   "nbconvert_exporter": "python",
   "pygments_lexer": "ipython3",
   "version": "3.10.6"
  }
 },
 "nbformat": 4,
 "nbformat_minor": 5
}
