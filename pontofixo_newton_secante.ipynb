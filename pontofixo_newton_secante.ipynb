{
 "cells": [
  {
   "cell_type": "code",
   "execution_count": 1,
   "id": "d3803258",
   "metadata": {},
   "outputs": [],
   "source": [
    "import numpy as np\n",
    "import matplotlib.pyplot as plt"
   ]
  },
  {
   "cell_type": "markdown",
   "id": "79f72e50",
   "metadata": {},
   "source": [
    "# Iteração do ponto fixo"
   ]
  },
  {
   "cell_type": "markdown",
   "id": "5ce82150",
   "metadata": {},
   "source": [
    "Calcula o ponto f(x) = x"
   ]
  },
  {
   "cell_type": "code",
   "execution_count": 2,
   "id": "de3a5b81",
   "metadata": {},
   "outputs": [],
   "source": [
    "def ponto_fixo(g, x0, max_iter=200, tol=1e-5):\n",
    "    '''iteracao do ponto fixo\n",
    "        g: funcao transformada g\n",
    "        x0: aproximacao inicial\n",
    "        max_iter: limite de iteracoes\n",
    "        tol: tolerancia de erro, padrao 0.001% (.00001)\n",
    "        \n",
    "        retorna tuple (convergencia x, erro final, numero de iteracoes)\n",
    "    '''\n",
    "    erro = 0\n",
    "    xa = x0\n",
    "    for i in range(max_iter):\n",
    "        x1 = g(x0)    \n",
    "        x0 = x1      \n",
    "        erro = abs((x1 - xa) / x1)\n",
    "        \n",
    "        if erro <= tol:\n",
    "            return x1, erro, i+1\n",
    "        \n",
    "        xa = x0\n",
    "        \n",
    "    return x1, erro, max_iter"
   ]
  },
  {
   "cell_type": "code",
   "execution_count": 3,
   "id": "a76de78c",
   "metadata": {},
   "outputs": [],
   "source": [
    "def res(tup):\n",
    "    # imprime o resultado dos metodos de forma mais descritiva\n",
    "    print('convergencia em x = {}\\ncom erro de {}\\n{} iteracoes'.format(tup[0], tup[1], tup[2]))"
   ]
  },
  {
   "cell_type": "markdown",
   "id": "74b46086",
   "metadata": {},
   "source": [
    "### $g(x) = e^{-x}$"
   ]
  },
  {
   "cell_type": "code",
   "execution_count": 4,
   "id": "8ae51b2e",
   "metadata": {},
   "outputs": [],
   "source": [
    "g = lambda x: np.e**-x"
   ]
  },
  {
   "cell_type": "code",
   "execution_count": 5,
   "id": "22dbed2d",
   "metadata": {},
   "outputs": [
    {
     "name": "stdout",
     "output_type": "stream",
     "text": [
      "convergencia em x = 0.5671447133465701\n",
      "com erro de 6.93277778962193e-06\n",
      "23 iteracoes\n"
     ]
    }
   ],
   "source": [
    "res(ponto_fixo(g, 0))"
   ]
  },
  {
   "cell_type": "code",
   "execution_count": 6,
   "id": "890c2c22",
   "metadata": {},
   "outputs": [
    {
     "data": {
      "image/png": "[encoded data removed]",
      "text/plain": [
       "<Figure size 640x480 with 1 Axes>"
      ]
     },
     "metadata": {},
     "output_type": "display_data"
    }
   ],
   "source": [
    "x = np.linspace(-2, 2, 100)\n",
    "plt.plot(x, g(x))\n",
    "plt.plot(x, x)\n",
    "plt.grid()"
   ]
  },
  {
   "cell_type": "markdown",
   "id": "aa96cf52",
   "metadata": {},
   "source": [
    "# Newton-Raphson"
   ]
  },
  {
   "cell_type": "markdown",
   "id": "06638b90",
   "metadata": {},
   "source": [
    "Converge na raiz a partir de uma aprorximação inicial e a derivada da função"
   ]
  },
  {
   "cell_type": "code",
   "execution_count": 7,
   "id": "badfc5f0",
   "metadata": {},
   "outputs": [],
   "source": [
    "def newton(f, d, x0, max_iter=200, tol=1e-10):\n",
    "    erro = 0\n",
    "    xa = x0\n",
    "    for i in range(max_iter):\n",
    "        x1 = x0 - f(x0) / d(x0)\n",
    "        x0 = x1\n",
    "        erro = abs((x1 - xa) / x1)\n",
    "        \n",
    "        if erro <= tol:\n",
    "            return x1, erro, i+1\n",
    "        \n",
    "        xa = x0\n",
    "        \n",
    "    return x1, erro, max_iter"
   ]
  },
  {
   "cell_type": "markdown",
   "id": "367efd4a",
   "metadata": {},
   "source": [
    "# Método da secante"
   ]
  },
  {
   "cell_type": "markdown",
   "id": "43f18403",
   "metadata": {},
   "source": [
    "Converge na raiz a partir das raizes de secantes de f(x) e dois numeros iniciais"
   ]
  },
  {
   "cell_type": "code",
   "execution_count": 8,
   "id": "325bb39c",
   "metadata": {},
   "outputs": [],
   "source": [
    "def secante(f, x0, x1, max_iter=200, tol=1e-10):\n",
    "    erro = 0\n",
    "    xa = x1\n",
    "    for i in range(max_iter):\n",
    "        x2 = x1 - f(x1) * (x1 - x0) / (f(x1) - f(x0))\n",
    "        x0, x1 = x1, x2\n",
    "        erro = abs((x1 - xa) / x1)\n",
    "        \n",
    "        if erro <= tol:\n",
    "            return x2, erro, i+1\n",
    "        \n",
    "        xa = x1\n",
    "        \n",
    "    return x2, erro, max_iter"
   ]
  },
  {
   "cell_type": "markdown",
   "id": "9d4643fa",
   "metadata": {},
   "source": [
    "## 2. Ponto fixo de $2sin(\\sqrt{x})-x$"
   ]
  },
  {
   "cell_type": "markdown",
   "id": "68eaab96",
   "metadata": {},
   "source": [
    "critério de parada: erro <= 0.001% (padrão)"
   ]
  },
  {
   "cell_type": "code",
   "execution_count": 9,
   "id": "df732851",
   "metadata": {},
   "outputs": [],
   "source": [
    "f = lambda x: 2*np.sin(np.sqrt(x))-x"
   ]
  },
  {
   "cell_type": "code",
   "execution_count": 10,
   "id": "96d72427",
   "metadata": {},
   "outputs": [
    {
     "name": "stdout",
     "output_type": "stream",
     "text": [
      "convergencia em x = 0.7686497675264468\n",
      "com erro de 5.567119495536234e-06\n",
      "9 iteracoes\n"
     ]
    }
   ],
   "source": [
    "res(ponto_fixo(f, 0.5))"
   ]
  },
  {
   "cell_type": "markdown",
   "id": "e50502ad",
   "metadata": {},
   "source": [
    "## 3. Aproximando da maior raiz real"
   ]
  },
  {
   "cell_type": "markdown",
   "id": "030a41c1",
   "metadata": {},
   "source": [
    "## $f(x)=2x^3-11.7x^2+17.7x-5$"
   ]
  },
  {
   "cell_type": "code",
   "execution_count": 11,
   "id": "c03e7124",
   "metadata": {},
   "outputs": [],
   "source": [
    "from decimal import Decimal"
   ]
  },
  {
   "cell_type": "code",
   "execution_count": 12,
   "id": "d6e8c8e9",
   "metadata": {},
   "outputs": [],
   "source": [
    "f = lambda x: 2*x**3 - 11.7*x**2 + 17.7*x - 5\n",
    "d = lambda x: 6*x**2 - 23.4*x + 17.7"
   ]
  },
  {
   "cell_type": "markdown",
   "id": "b9885d55",
   "metadata": {},
   "source": [
    "### a) graficamente"
   ]
  },
  {
   "cell_type": "code",
   "execution_count": 13,
   "id": "877980e2",
   "metadata": {},
   "outputs": [
    {
     "data": {
      "image/png": "[encoded data removed]",
      "text/plain": [
       "<Figure size 640x480 with 1 Axes>"
      ]
     },
     "metadata": {},
     "output_type": "display_data"
    }
   ],
   "source": [
    "x = np.linspace(-.5, 4, 100)\n",
    "plt.plot(x, f(x), label='f(x)')\n",
    "plt.plot(x, d(x), label='derivada')\n",
    "plt.legend()\n",
    "plt.grid()"
   ]
  },
  {
   "cell_type": "markdown",
   "id": "ac4e9ffb",
   "metadata": {},
   "source": [
    "### b) ponto fixo"
   ]
  },
  {
   "cell_type": "markdown",
   "id": "6df9c980",
   "metadata": {},
   "source": [
    "transformação de f(x) para encontrar a raiz: $g(x) =  5 / (2x^2 - 11.7x + 17.7)$"
   ]
  },
  {
   "cell_type": "code",
   "execution_count": 14,
   "id": "e55c86ab",
   "metadata": {},
   "outputs": [],
   "source": [
    "g = lambda x: 5 / (2*x**2 - 11.7*x + 17.7)"
   ]
  },
  {
   "cell_type": "code",
   "execution_count": 15,
   "id": "461cb521",
   "metadata": {},
   "outputs": [
    {
     "name": "stdout",
     "output_type": "stream",
     "text": [
      "convergencia em x = 0.2989664134622428\n",
      "com erro de 0.7169639339482556\n",
      "3 iteracoes\n"
     ]
    }
   ],
   "source": [
    "res(ponto_fixo(g, 3, max_iter=3))"
   ]
  },
  {
   "cell_type": "markdown",
   "id": "4a513821",
   "metadata": {},
   "source": [
    "sempre converge na primeira raiz, independente da aproximação inicial que eu escolha. Valor real = 0.365"
   ]
  },
  {
   "cell_type": "markdown",
   "id": "9e87c66a",
   "metadata": {},
   "source": [
    "### c) Newton-Raphson"
   ]
  },
  {
   "cell_type": "code",
   "execution_count": 16,
   "id": "0543dd0f",
   "metadata": {},
   "outputs": [
    {
     "name": "stdout",
     "output_type": "stream",
     "text": [
      "convergencia em x = 3.7929344806432264\n",
      "com erro de 0.12571152449993078\n",
      "3 iteracoes\n"
     ]
    }
   ],
   "source": [
    "res(newton(f, d, 3, 3))"
   ]
  },
  {
   "cell_type": "markdown",
   "id": "83ebed8e",
   "metadata": {},
   "source": [
    "### d) Secante"
   ]
  },
  {
   "cell_type": "code",
   "execution_count": 17,
   "id": "8f9fd464",
   "metadata": {},
   "outputs": [
    {
     "name": "stdout",
     "output_type": "stream",
     "text": [
      "convergencia em x = 3.586275384711736\n",
      "com erro de 0.029279032988293666\n",
      "3 iteracoes\n"
     ]
    }
   ],
   "source": [
    "res(secante(f, 3, 4, max_iter=3))"
   ]
  },
  {
   "cell_type": "code",
   "execution_count": 45,
   "id": "94ff0d36",
   "metadata": {},
   "outputs": [],
   "source": [
    "def bissecao(f, a, b, tol=1e-10, lim_iter=200):\n",
    "    erro = 1\n",
    "    xa = a\n",
    "    for i in range(lim_iter):\n",
    "        x = (a+b)/2\n",
    "            \n",
    "        if erro <= tol:\n",
    "            return x, erro, i+1\n",
    "\n",
    "        else:\n",
    "            if np.sign(f(a)) * np.sign(f(x)) == -1:\n",
    "                b = x \n",
    "            else:\n",
    "                a = x\n",
    "                \n",
    "        try:\n",
    "            erro = abs((x - xa)/x)\n",
    "        except ZeroDivisionError:\n",
    "            erro = 1\n",
    "        xa = x\n",
    "    \n",
    "    return x, erro, lim_iter"
   ]
  },
  {
   "cell_type": "code",
   "execution_count": 19,
   "id": "aa76ebcc",
   "metadata": {},
   "outputs": [],
   "source": [
    "def falsa_pos(f, a, b, tol=1e-10, lim_iter=200):\n",
    "\n",
    "    if np.sign(f(b)) * np.sign(f(a)) != -1:\n",
    "            raise ValueError('intervalo deve ter sinais opostos')\n",
    "\n",
    "    else:\n",
    "        erro = 1\n",
    "        xa = a\n",
    "        for i in range(lim_iter):\n",
    "            x = (a * f(b) - b * f(a)) / (f(b) - f(a))\n",
    "            \n",
    "            if erro <= tol:\n",
    "                return x, erro, i+1\n",
    "\n",
    "            if f(a) * f(x) < 0:\n",
    "                b = x\n",
    "            else:\n",
    "                a = x\n",
    "            \n",
    "            erro = abs((x - xa)/x)\n",
    "                \n",
    "            xa=x\n",
    "\n",
    "    return x, erro, lim_iter"
   ]
  },
  {
   "cell_type": "markdown",
   "id": "abeb7925",
   "metadata": {},
   "source": [
    "## 4. Comparação entre os métodos"
   ]
  },
  {
   "cell_type": "markdown",
   "id": "3d9931a7",
   "metadata": {},
   "source": [
    "## a) $f(x) = 2x^4 + 4x^3 + 3x^2 - 10x - 15$"
   ]
  },
  {
   "cell_type": "code",
   "execution_count": 20,
   "id": "5f40789f",
   "metadata": {},
   "outputs": [],
   "source": [
    "f = lambda x: 2*x**4 + 4*x**3 + 3*x**2 - 10*x - 15"
   ]
  },
  {
   "cell_type": "code",
   "execution_count": 21,
   "id": "0ffa6f1d",
   "metadata": {},
   "outputs": [
    {
     "data": {
      "image/png": "[encoded data removed]",
      "text/plain": [
       "<Figure size 640x480 with 1 Axes>"
      ]
     },
     "metadata": {},
     "output_type": "display_data"
    }
   ],
   "source": [
    "x = np.linspace(-4, 4, 100)\n",
    "plt.plot(x, f(x))\n",
    "plt.grid()"
   ]
  },
  {
   "cell_type": "markdown",
   "id": "b78693c5",
   "metadata": {},
   "source": [
    "### Bissecao"
   ]
  },
  {
   "cell_type": "code",
   "execution_count": 22,
   "id": "e8a9ff1d",
   "metadata": {},
   "outputs": [
    {
     "name": "stdout",
     "output_type": "stream",
     "text": [
      "convergencia em x = 1.492878708653734\n",
      "com erro de 5.848532159152509e-11\n",
      "36 iteracoes\n"
     ]
    }
   ],
   "source": [
    "res(bissecao(f, 0, 3))"
   ]
  },
  {
   "cell_type": "code",
   "execution_count": 23,
   "id": "4f4e4cf3",
   "metadata": {},
   "outputs": [
    {
     "name": "stdout",
     "output_type": "stream",
     "text": [
      "221 µs ± 18.2 µs per loop (mean ± std. dev. of 7 runs, 1,000 loops each)\n"
     ]
    }
   ],
   "source": [
    "%timeit bissecao(f, 0, 3)"
   ]
  },
  {
   "cell_type": "markdown",
   "id": "625cb033",
   "metadata": {},
   "source": [
    "### Falsa posicao"
   ]
  },
  {
   "cell_type": "code",
   "execution_count": 24,
   "id": "bfcfa712",
   "metadata": {},
   "outputs": [
    {
     "name": "stdout",
     "output_type": "stream",
     "text": [
      "convergencia em x = 1.4928787084871324\n",
      "com erro de 7.834557534606973e-11\n",
      "65 iteracoes\n"
     ]
    }
   ],
   "source": [
    "res(falsa_pos(f, 0, 3))"
   ]
  },
  {
   "cell_type": "code",
   "execution_count": 25,
   "id": "21f8bfff",
   "metadata": {},
   "outputs": [
    {
     "name": "stdout",
     "output_type": "stream",
     "text": [
      "314 µs ± 19.1 µs per loop (mean ± std. dev. of 7 runs, 1,000 loops each)\n"
     ]
    }
   ],
   "source": [
    "%timeit falsa_pos(f, 0, 3)"
   ]
  },
  {
   "cell_type": "markdown",
   "id": "bc0ef4ab",
   "metadata": {},
   "source": [
    "$f'(x) = 8x^3 + 12x^2 + 6x - 10$"
   ]
  },
  {
   "cell_type": "code",
   "execution_count": 26,
   "id": "522c7af4",
   "metadata": {},
   "outputs": [],
   "source": [
    "d = lambda x: 8*x**3  + 12*x**2 + 6*x - 10"
   ]
  },
  {
   "cell_type": "markdown",
   "id": "c0315f1e",
   "metadata": {},
   "source": [
    "### Newton-Raphson"
   ]
  },
  {
   "cell_type": "code",
   "execution_count": 27,
   "id": "b63292a2",
   "metadata": {},
   "outputs": [
    {
     "name": "stdout",
     "output_type": "stream",
     "text": [
      "convergencia em x = 1.4928787086636037\n",
      "com erro de 1.3495846112721618e-11\n",
      "7 iteracoes\n"
     ]
    }
   ],
   "source": [
    "res(newton(f, d, 3))"
   ]
  },
  {
   "cell_type": "code",
   "execution_count": 28,
   "id": "cbbfd125",
   "metadata": {},
   "outputs": [
    {
     "name": "stdout",
     "output_type": "stream",
     "text": [
      "9.69 µs ± 180 ns per loop (mean ± std. dev. of 7 runs, 100,000 loops each)\n"
     ]
    }
   ],
   "source": [
    "%timeit nr = newton(f, d, 3)"
   ]
  },
  {
   "cell_type": "markdown",
   "id": "60553503",
   "metadata": {},
   "source": [
    "### Secante"
   ]
  },
  {
   "cell_type": "code",
   "execution_count": 29,
   "id": "0b4d5118",
   "metadata": {},
   "outputs": [
    {
     "name": "stdout",
     "output_type": "stream",
     "text": [
      "convergencia em x = -1.3003841326439198\n",
      "com erro de 7.781218174248835e-13\n",
      "11 iteracoes\n"
     ]
    }
   ],
   "source": [
    "res(secante(f, 0, 3))"
   ]
  },
  {
   "cell_type": "markdown",
   "id": "33983a26",
   "metadata": {},
   "source": [
    "converge em outra raiz das demais"
   ]
  },
  {
   "cell_type": "code",
   "execution_count": 30,
   "id": "eae21720",
   "metadata": {},
   "outputs": [
    {
     "name": "stdout",
     "output_type": "stream",
     "text": [
      "26.7 µs ± 1.98 µs per loop (mean ± std. dev. of 7 runs, 10,000 loops each)\n"
     ]
    }
   ],
   "source": [
    "%timeit secante(f, 0, 3)"
   ]
  },
  {
   "cell_type": "markdown",
   "id": "9efc6532",
   "metadata": {},
   "source": [
    "## b) $f(x) = (x+3)(x+1)(x-2)^3$"
   ]
  },
  {
   "cell_type": "code",
   "execution_count": 31,
   "id": "57128e3a",
   "metadata": {},
   "outputs": [],
   "source": [
    "f = lambda x: (x+3)*(x+1)*(x-2)**3"
   ]
  },
  {
   "cell_type": "code",
   "execution_count": 32,
   "id": "cde8f5c7",
   "metadata": {},
   "outputs": [
    {
     "data": {
      "image/png": "[encoded data removed]",
      "text/plain": [
       "<Figure size 640x480 with 1 Axes>"
      ]
     },
     "metadata": {},
     "output_type": "display_data"
    }
   ],
   "source": [
    "plt.plot(x, f(x))\n",
    "plt.grid()"
   ]
  },
  {
   "cell_type": "code",
   "execution_count": 33,
   "id": "94279b51",
   "metadata": {},
   "outputs": [],
   "source": [
    "d = lambda x: (x - 2)**2 * (5*x**2 + 12*x + 1)"
   ]
  },
  {
   "cell_type": "markdown",
   "id": "0fc473d3",
   "metadata": {},
   "source": [
    "### Bissecao"
   ]
  },
  {
   "cell_type": "code",
   "execution_count": 34,
   "id": "8b149892",
   "metadata": {},
   "outputs": [
    {
     "name": "stdout",
     "output_type": "stream",
     "text": [
      "convergencia em x = 2.0000000000436557\n",
      "com erro de 7.275957614289305e-11\n",
      "36 iteracoes\n"
     ]
    }
   ],
   "source": [
    "res(bissecao(f, 0, 5))"
   ]
  },
  {
   "cell_type": "markdown",
   "id": "cb31d07b",
   "metadata": {},
   "source": [
    "### Falsa posicao"
   ]
  },
  {
   "cell_type": "code",
   "execution_count": 35,
   "id": "a916907b",
   "metadata": {},
   "outputs": [
    {
     "name": "stdout",
     "output_type": "stream",
     "text": [
      "convergencia em x = 1.714409136227648\n",
      "com erro de 0.000444126334691446\n",
      "200 iteracoes\n"
     ]
    }
   ],
   "source": [
    "res(falsa_pos(f, 0, 5))"
   ]
  },
  {
   "cell_type": "markdown",
   "id": "8280a5a9",
   "metadata": {},
   "source": [
    "### Newton-Raphson"
   ]
  },
  {
   "cell_type": "code",
   "execution_count": 36,
   "id": "379c73a0",
   "metadata": {},
   "outputs": [
    {
     "name": "stdout",
     "output_type": "stream",
     "text": [
      "convergencia em x = 2.00000000031569\n",
      "com erro de 7.892264618367588e-11\n",
      "60 iteracoes\n"
     ]
    }
   ],
   "source": [
    "res(newton(f, d, 0))"
   ]
  },
  {
   "cell_type": "markdown",
   "id": "a5b9d3d8",
   "metadata": {},
   "source": [
    "### Secante"
   ]
  },
  {
   "cell_type": "code",
   "execution_count": 37,
   "id": "b532fe3d",
   "metadata": {},
   "outputs": [
    {
     "name": "stdout",
     "output_type": "stream",
     "text": [
      "convergencia em x = 2.0000000005693157\n",
      "com erro de 9.243339424569492e-11\n",
      "75 iteracoes\n"
     ]
    }
   ],
   "source": [
    "res(secante(f, 0, 5))"
   ]
  },
  {
   "cell_type": "markdown",
   "id": "4e36d9bc",
   "metadata": {},
   "source": [
    "## c) $f(x) = 5x^3 + x^2 − e^{1−2x} + cos(x) + 20$"
   ]
  },
  {
   "cell_type": "code",
   "execution_count": 38,
   "id": "a3fc6ece",
   "metadata": {},
   "outputs": [],
   "source": [
    "f = lambda x: 5*x**3 + x**2 - np.e**(1-2*x) + np.cos(x) + 20"
   ]
  },
  {
   "cell_type": "code",
   "execution_count": 41,
   "id": "89fbe014",
   "metadata": {},
   "outputs": [
    {
     "data": {
      "image/png": "[encoded data removed]",
      "text/plain": [
       "<Figure size 640x480 with 1 Axes>"
      ]
     },
     "metadata": {},
     "output_type": "display_data"
    }
   ],
   "source": [
    "plt.plot(x, f(x))\n",
    "plt.grid()"
   ]
  },
  {
   "cell_type": "code",
   "execution_count": 46,
   "id": "1a2bae01",
   "metadata": {},
   "outputs": [
    {
     "name": "stdout",
     "output_type": "stream",
     "text": [
      "convergencia em x = -0.9295604598082718\n",
      "com erro de 7.827309710870648e-11\n",
      "38 iteracoes\n"
     ]
    }
   ],
   "source": [
    "res(bissecao(f, -5, 5))"
   ]
  },
  {
   "cell_type": "code",
   "execution_count": 47,
   "id": "e0260d6a",
   "metadata": {},
   "outputs": [
    {
     "name": "stdout",
     "output_type": "stream",
     "text": [
      "convergencia em x = 1.5687692610780049\n",
      "com erro de 0.0028971429408421105\n",
      "200 iteracoes\n"
     ]
    }
   ],
   "source": [
    "res(falsa_pos(f, -5, 5))"
   ]
  }
 ],
 "metadata": {
  "kernelspec": {
   "display_name": "Python 3 (ipykernel)",
   "language": "python",
   "name": "python3"
  },
  "language_info": {
   "codemirror_mode": {
    "name": "ipython",
    "version": 3
   },
   "file_extension": ".py",
   "mimetype": "text/x-python",
   "name": "python",
   "nbconvert_exporter": "python",
   "pygments_lexer": "ipython3",
   "version": "3.10.6"
  }
 },
 "nbformat": 4,
 "nbformat_minor": 5
}
